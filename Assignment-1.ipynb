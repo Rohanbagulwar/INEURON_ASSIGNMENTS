{
 "cells": [
  {
   "cell_type": "markdown",
   "metadata": {},
   "source": [
    "# Assignment-1"
   ]
  },
  {
   "cell_type": "markdown",
   "metadata": {},
   "source": [
    "# 1. What are the differences between operators and values in the following?\n",
    "\n",
    "* ==>     It is an multiplication operator.To multiply two numbers in python.\n",
    "\n",
    "'hello'==>Anything which written in a \" \" is a string in python.\"hello\" is a string.\n",
    "\n",
    "-87.8==> -87.8 is a floating value in python.\n",
    "\n",
    "- ==> -  is an subtraction operator in python.To subtract two numbers.\n",
    "\n",
    "/ ==> '/' is an divisonal operator in python.\n",
    "\n",
    "+ ==> + is an addition operator in  a python. use to add two  numbers.\n",
    "\n",
    "6 ===> '6' is an integer type object.\n"
   ]
  },
  {
   "cell_type": "code",
   "execution_count": null,
   "metadata": {},
   "outputs": [],
   "source": [
    "# for example"
   ]
  },
  {
   "cell_type": "code",
   "execution_count": 2,
   "metadata": {},
   "outputs": [
    {
     "name": "stdout",
     "output_type": "stream",
     "text": [
      "10\n",
      "2\n",
      "20\n",
      "8\n",
      "5.0\n",
      "12\n",
      "<class 'float'>\n",
      "<class 'int'>\n",
      "<class 'str'>\n"
     ]
    }
   ],
   "source": [
    "# Explaination of question 1:\n",
    "a=int(input())\n",
    "b=int(input())\n",
    "c=a*b\n",
    "print(c)\n",
    "c=a-b\n",
    "print(c)\n",
    "c=a/b\n",
    "print(c)\n",
    "c=a+b\n",
    "print(c)\n",
    "print(type(-87.8))\n",
    "print(type(6))\n",
    "print(type(\"hello\"))\n",
    "\n",
    "\n"
   ]
  },
  {
   "cell_type": "markdown",
   "metadata": {},
   "source": [
    "# 2. What is the difference between string and variable?\n",
    "\n",
    "-->Variables are used to store the any values like string,float,char,integer and python's data structures like List,Tuple,Dictionary,Set.\n",
    "\n",
    "String->String is one of the data-type or class in python which are mutable. \n",
    "\n"
   ]
  },
  {
   "cell_type": "code",
   "execution_count": 3,
   "metadata": {},
   "outputs": [
    {
     "name": "stdout",
     "output_type": "stream",
     "text": [
      "<class 'str'>\n",
      "10\n"
     ]
    }
   ],
   "source": [
    "#here is an example of que 2:\n",
    "a='spam'\n",
    "print(type(a))\n",
    "spam=10\n",
    "print(spam)"
   ]
  },
  {
   "cell_type": "markdown",
   "metadata": {},
   "source": [
    "# 3. Describe three different data forms.\n",
    "\n",
    "==>Forms of data: Numeric data,Integer data,csv,excel,json,html etc..\n",
    "\n",
    "Data Types==>Integer,float,String,dictionary,tuple,set,list.. \n",
    "\n"
   ]
  },
  {
   "cell_type": "markdown",
   "metadata": {},
   "source": [
    "# 4. What makes up an expression? What are the functions of all expressions?\n",
    "\n",
    "==> A single line any operation is an expression in python.\n",
    "\n",
    "Functions of expressions: In python we have unary aithematic expression,binary arithematic expression,bitwise shifting operator,conditional operator,assignment operator,boolean operator,comparison and many more.\n",
    "They are as follows:"
   ]
  },
  {
   "cell_type": "code",
   "execution_count": 19,
   "metadata": {},
   "outputs": [
    {
     "name": "stdout",
     "output_type": "stream",
     "text": [
      "20\n",
      "30\n",
      "50\n",
      "51\n",
      "204\n",
      "0\n",
      "-1\n"
     ]
    }
   ],
   "source": [
    "\n",
    "c=int(input())+int(input())\n",
    "print(c)\n",
    "c+=1\n",
    "print(c)\n",
    "c=c << 2\n",
    "print(c)\n",
    "c=c & 1\n",
    "print(c)\n",
    "print(~c)"
   ]
  },
  {
   "cell_type": "code",
   "execution_count": 10,
   "metadata": {},
   "outputs": [
    {
     "data": {
      "text/plain": [
       "[11, 13, 15, 17, 19, 21, 23, 25, 27]"
      ]
     },
     "execution_count": 10,
     "metadata": {},
     "output_type": "execute_result"
    }
   ],
   "source": [
    "#for example\n",
    "a=[x for x in range(10)]\n",
    "b=[y for y in range(11,20,1)]\n",
    "res_list = [sum(i) for i in zip(a,b)]\n",
    "res_list\n"
   ]
  },
  {
   "cell_type": "markdown",
   "metadata": {},
   "source": [
    "# 5. In this chapter, assignment statements such as spam = 10 were added.What's the difference between a declaration and an expression?\n",
    "\n",
    "==>Declaration: Declaration is any variable which we want to use in the program for further any expression is declration of that variable is must in other programming languages.but python does not allowed declaration,we have directly to use it in python.\n",
    "\n",
    "==>spam=10,It means that integer value 10 is assigned to the spam named variable. so we sayit to the initalization to spam"
   ]
  },
  {
   "cell_type": "code",
   "execution_count": 24,
   "metadata": {},
   "outputs": [
    {
     "ename": "NameError",
     "evalue": "name 'x' is not defined",
     "output_type": "error",
     "traceback": [
      "\u001b[1;31m---------------------------------------------------------------------------\u001b[0m",
      "\u001b[1;31mNameError\u001b[0m                                 Traceback (most recent call last)",
      "\u001b[1;32m<ipython-input-24-6fcf9dfbd479>\u001b[0m in \u001b[0;36m<module>\u001b[1;34m\u001b[0m\n\u001b[1;32m----> 1\u001b[1;33m \u001b[0mx\u001b[0m\u001b[1;33m\u001b[0m\u001b[1;33m\u001b[0m\u001b[0m\n\u001b[0m",
      "\u001b[1;31mNameError\u001b[0m: name 'x' is not defined"
     ]
    }
   ],
   "source": [
    "x\n",
    "# it will throw 'namerror' or exception if we declare anything without initalization in python. "
   ]
  },
  {
   "cell_type": "markdown",
   "metadata": {},
   "source": [
    "# 6. After running the following code, what does the variable bacon contain?\n",
    "bacon = 22\n",
    "bacon + 1\n"
   ]
  },
  {
   "cell_type": "code",
   "execution_count": 25,
   "metadata": {},
   "outputs": [
    {
     "name": "stdout",
     "output_type": "stream",
     "text": [
      "23\n"
     ]
    }
   ],
   "source": [
    "bacon = 22\n",
    "bacon+=1\n",
    "print(bacon)\n",
    "# it will increment by 1."
   ]
  },
  {
   "cell_type": "markdown",
   "metadata": {},
   "source": [
    "# 7. What should the values of the following two terms be?\n",
    "\n",
    "'spam' + 'spamspam'\n",
    "'spam' * 3\n"
   ]
  },
  {
   "cell_type": "code",
   "execution_count": 27,
   "metadata": {},
   "outputs": [
    {
     "name": "stdout",
     "output_type": "stream",
     "text": [
      "spamspamspam\n",
      "spamspamspam\n"
     ]
    }
   ],
   "source": [
    "c='spam'+'spamspam'\n",
    "print(c)\n",
    "print('spam'*3)\n",
    "# Both has same result.That is 'spam' will be printed 3 times in both the situation."
   ]
  },
  {
   "cell_type": "markdown",
   "metadata": {},
   "source": [
    "# 8. Why is it that eggs is a true variable name but 100 is not?\n",
    "\n",
    "==>Because in python or any programming language it will not allowed to use variable name as a integer value.whether any string value or character we can use to store the value.That is it will throw Syntax error."
   ]
  },
  {
   "cell_type": "code",
   "execution_count": 28,
   "metadata": {},
   "outputs": [
    {
     "ename": "SyntaxError",
     "evalue": "can't assign to literal (<ipython-input-28-1b65a93de955>, line 2)",
     "output_type": "error",
     "traceback": [
      "\u001b[1;36m  File \u001b[1;32m\"<ipython-input-28-1b65a93de955>\"\u001b[1;36m, line \u001b[1;32m2\u001b[0m\n\u001b[1;33m    100=a\u001b[0m\n\u001b[1;37m         ^\u001b[0m\n\u001b[1;31mSyntaxError\u001b[0m\u001b[1;31m:\u001b[0m can't assign to literal\n"
     ]
    }
   ],
   "source": [
    "spam=10\n",
    "100=a"
   ]
  },
  {
   "cell_type": "markdown",
   "metadata": {},
   "source": [
    "# 9. Which of the following three functions may be used to convert a value to an integer, a floating-point number, or a string?\n",
    "\n",
    "==>chr(),ord(),round() and we can use cast string to any other datatype.\n",
    "chr(),ord() prints Ascii value of that characters present in a string."
   ]
  },
  {
   "cell_type": "code",
   "execution_count": 38,
   "metadata": {},
   "outputs": [
    {
     "name": "stdout",
     "output_type": "stream",
     "text": [
      "A\n",
      "99\n",
      "10\n"
     ]
    }
   ],
   "source": [
    "a=65\n",
    "print(chr(a))\n",
    "a=\"c\"\n",
    "print(round(a))\n",
    "x=10.444\n",
    "print(round(x))"
   ]
  },
  {
   "cell_type": "markdown",
   "metadata": {},
   "source": [
    "# 10. What is the error caused by this expression? What would you do  about it? 'I have eaten ' + 99 + ' burritos.'\n",
    "\n",
    "==>we can only contanicate of same data type in python.But here 99 is an integer object.so we have to cast in into the string i.e. str(99).Otherwise it will throw TypeError: can only concatenate str (not \"int\") to str.\n",
    "\n",
    "\n",
    "\n"
   ]
  },
  {
   "cell_type": "code",
   "execution_count": 39,
   "metadata": {},
   "outputs": [
    {
     "ename": "TypeError",
     "evalue": "can only concatenate str (not \"int\") to str",
     "output_type": "error",
     "traceback": [
      "\u001b[1;31m---------------------------------------------------------------------------\u001b[0m",
      "\u001b[1;31mTypeError\u001b[0m                                 Traceback (most recent call last)",
      "\u001b[1;32m<ipython-input-39-6affbcf2ad3b>\u001b[0m in \u001b[0;36m<module>\u001b[1;34m\u001b[0m\n\u001b[1;32m----> 1\u001b[1;33m \u001b[0mprint\u001b[0m\u001b[1;33m(\u001b[0m\u001b[1;34m'i have eaten'\u001b[0m\u001b[1;33m+\u001b[0m\u001b[1;36m99\u001b[0m\u001b[1;33m+\u001b[0m\u001b[1;34m'burritos'\u001b[0m\u001b[1;33m)\u001b[0m\u001b[1;33m\u001b[0m\u001b[1;33m\u001b[0m\u001b[0m\n\u001b[0m",
      "\u001b[1;31mTypeError\u001b[0m: can only concatenate str (not \"int\") to str"
     ]
    }
   ],
   "source": [
    "print('i have eaten'+99+'burritos')"
   ]
  },
  {
   "cell_type": "code",
   "execution_count": 40,
   "metadata": {},
   "outputs": [
    {
     "name": "stdout",
     "output_type": "stream",
     "text": [
      "i have eaten99burritos\n"
     ]
    }
   ],
   "source": [
    "#string contancate\n",
    "print('i have eaten'+str(99)+'burritos')"
   ]
  },
  {
   "cell_type": "code",
   "execution_count": null,
   "metadata": {},
   "outputs": [],
   "source": []
  }
 ],
 "metadata": {
  "kernelspec": {
   "display_name": "Python 3",
   "language": "python",
   "name": "python3"
  },
  "language_info": {
   "codemirror_mode": {
    "name": "ipython",
    "version": 3
   },
   "file_extension": ".py",
   "mimetype": "text/x-python",
   "name": "python",
   "nbconvert_exporter": "python",
   "pygments_lexer": "ipython3",
   "version": "3.7.4"
  }
 },
 "nbformat": 4,
 "nbformat_minor": 4
}
