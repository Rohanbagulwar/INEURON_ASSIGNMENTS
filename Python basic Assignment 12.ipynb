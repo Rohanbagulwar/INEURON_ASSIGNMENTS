{
 "cells": [
  {
   "cell_type": "markdown",
   "metadata": {},
   "source": [
    "# Assignment-12"
   ]
  },
  {
   "cell_type": "markdown",
   "metadata": {},
   "source": [
    "# 1. In what modes should the PdfFileReader() and PdfFileWriter() File objects will be opened?"
   ]
  },
  {
   "cell_type": "code",
   "execution_count": 31,
   "metadata": {},
   "outputs": [
    {
     "name": "stdout",
     "output_type": "stream",
     "text": [
      "Requirement already satisfied: python-docx in c:\\users\\rohan\\appdata\\local\\programs\\python\\python37-32\\lib\\site-packages (0.8.10)\n",
      "Requirement already satisfied: lxml>=2.3.2 in c:\\users\\rohan\\appdata\\local\\programs\\python\\python37-32\\lib\\site-packages (from python-docx) (4.6.2)\n"
     ]
    }
   ],
   "source": [
    "!pip install python-docx"
   ]
  },
  {
   "cell_type": "code",
   "execution_count": 2,
   "metadata": {},
   "outputs": [],
   "source": [
    "import PyPDF2\n",
    "a=PyPDF2.PdfFileWriter()"
   ]
  },
  {
   "cell_type": "markdown",
   "metadata": {},
   "source": [
    "==>Theses are open for reading and writting mode by default."
   ]
  },
  {
   "cell_type": "markdown",
   "metadata": {},
   "source": [
    "# 2. From a PdfFileReader object, how do you get a Page object for page 5?"
   ]
  },
  {
   "cell_type": "code",
   "execution_count": 8,
   "metadata": {},
   "outputs": [],
   "source": [
    "import PyPDF2\n",
    "a=PyPDF2.PdfFileReader(r'E:\\SHARE MARKET\\(New York Institute of Finance) John J. Murphy - Technical Analysis of the Financial Markets_ A Comprehensive Guide to Trading Methods and Applications (New York Institute of Finance)-New York Institu.pdf')\n",
    "((a.getPage(0)))"
   ]
  },
  {
   "cell_type": "markdown",
   "metadata": {},
   "source": [
    "# 3. What PdfFileReader variable stores the number of pages in the PDF document?"
   ]
  },
  {
   "cell_type": "code",
   "execution_count": 28,
   "metadata": {},
   "outputs": [
    {
     "data": {
      "text/plain": [
       "585"
      ]
     },
     "execution_count": 28,
     "metadata": {},
     "output_type": "execute_result"
    }
   ],
   "source": [
    "import PyPDF2\n",
    "a=PyPDF2.PdfFileReader(r'E:\\SHARE MARKET\\(New York Institute of Finance) John J. Murphy - Technical Analysis of the Financial Markets_ A Comprehensive Guide to Trading Methods and Applications (New York Institute of Finance)-New York Institu.pdf')\n",
    "a.numPages"
   ]
  },
  {
   "cell_type": "markdown",
   "metadata": {},
   "source": [
    "# 4. If a PdfFileReader object’s PDF is encrypted with the password swordfish, what must you do before you can obtain Page objects from it?"
   ]
  },
  {
   "cell_type": "code",
   "execution_count": 29,
   "metadata": {},
   "outputs": [],
   "source": [
    "# import PyPDF2\n",
    "# pdfReader = PyPDF2.PdfFileReader(open('encrypted.pdf', 'rb'))\n",
    "# pdfReader.decrypt('swordfish')\n",
    "# ageObj = pdfReader.getPage(0)"
   ]
  },
  {
   "cell_type": "markdown",
   "metadata": {},
   "source": [
    "# 5. What methods do you use to rotate a page?"
   ]
  },
  {
   "cell_type": "code",
   "execution_count": 30,
   "metadata": {},
   "outputs": [
    {
     "data": {
      "text/plain": [
       "{'/Type': '/Page',\n",
       " '/MediaBox': [0, 0, 612, 792],\n",
       " '/CropBox': [0, 0, 612, 792],\n",
       " '/Parent': {'/Type': '/Pages',\n",
       "  '/Kids': [IndirectObject(21, 0),\n",
       "   IndirectObject(31, 0),\n",
       "   IndirectObject(36, 0),\n",
       "   IndirectObject(41, 0)],\n",
       "  '/Count': 4,\n",
       "  '/Parent': {'/Type': '/Pages',\n",
       "   '/Kids': [IndirectObject(2979, 0),\n",
       "    IndirectObject(2978, 0),\n",
       "    IndirectObject(2980, 0),\n",
       "    IndirectObject(2981, 0),\n",
       "    IndirectObject(2982, 0)],\n",
       "   '/Count': 22,\n",
       "   '/Parent': {'/Type': '/Pages',\n",
       "    '/Kids': [IndirectObject(2989, 0),\n",
       "     IndirectObject(2988, 0),\n",
       "     IndirectObject(2995, 0),\n",
       "     IndirectObject(3007, 0),\n",
       "     IndirectObject(3001, 0)],\n",
       "    '/Count': 120,\n",
       "    '/Parent': {'/Type': '/Pages',\n",
       "     '/Kids': [IndirectObject(3042, 0),\n",
       "      IndirectObject(3041, 0),\n",
       "      IndirectObject(3079, 0),\n",
       "      IndirectObject(3115, 0)],\n",
       "     '/Count': 585}}}},\n",
       " '/Rotate': 0,\n",
       " '/Resources': {'/ProcSet': ['/PDF', '/ImageC', '/ImageB', '/ImageI'],\n",
       "  '/XObject': {'/Obj42': {'/Type': '/XObject',\n",
       "    '/Subtype': '/Image',\n",
       "    '/Name': '/Obj42',\n",
       "    '/Width': 2552,\n",
       "    '/Height': 3300,\n",
       "    '/ColorSpace': '/DeviceGray',\n",
       "    '/BlackIs1': <PyPDF2.generic.BooleanObject at 0xa2eee90>,\n",
       "    '/BitsPerComponent': 1,\n",
       "    '/Filter': '/CCITTFaxDecode',\n",
       "    '/DecodeParms': {'/K': -1, '/Columns': 2552}}}},\n",
       " '/Contents': {'/Filter': '/FlateDecode'}}"
      ]
     },
     "execution_count": 30,
     "metadata": {},
     "output_type": "execute_result"
    }
   ],
   "source": [
    "# import PyPDF2\n",
    "# a=PyPDF2.PdfFileReader(r'E:\\SHARE MARKET\\(New York Institute of Finance) John J. Murphy - Technical Analysis of the Financial Markets_ A Comprehensive Guide to Trading Methods and Applications (New York Institute of Finance)-New York Institu.pdf')\n",
    "# page=a.getPage(5)\n",
    "# page.rotateClockwise()\n",
    "# page.rotateCounterClockwise()"
   ]
  },
  {
   "cell_type": "markdown",
   "metadata": {},
   "source": [
    "# 6. What is the difference between a Run object and a Paragraph object?"
   ]
  },
  {
   "cell_type": "raw",
   "metadata": {},
   "source": [
    "==> Run object and paragrah object are both are differnet both are used  to fetch the text in the document.\n",
    "here first we have to\n",
    "# import docx.Document\n",
    "# d=docx.Document(<doc file directory>)\n",
    "# d.paragraphs[0].text\n",
    "# d.paragrapghs[0].runs[0].text"
   ]
  },
  {
   "cell_type": "markdown",
   "metadata": {},
   "source": [
    "# 7. How do you obtain a list of Paragraph objects for a Document object that’s stored in a variable named doc?"
   ]
  },
  {
   "cell_type": "code",
   "execution_count": null,
   "metadata": {},
   "outputs": [],
   "source": [
    "# import docx.Document\n",
    "# ls=[]\n",
    "# doc=docx.Document(<doc file directory>)\n",
    "# i=0\n",
    "# for i in doc.paragraphs:\n",
    "#     ls.append(doc.paragraphs[i])\n",
    "# ls"
   ]
  },
  {
   "cell_type": "markdown",
   "metadata": {},
   "source": [
    "# 8. What type of object has bold, underline, italic, strike, and outline variables?"
   ]
  },
  {
   "cell_type": "code",
   "execution_count": null,
   "metadata": {},
   "outputs": [],
   "source": [
    "# import docx\n",
    "# doc_para=docx.Document(<doc file directory path>)\n",
    "# # doc_para.add_run('hey there, bold here').bold = True\n",
    "# # doc_para.add_run(', and ')\n",
    "# # doc_para.add_run('these words are italic').italic = True\n",
    "# doc_para.add_run('these words are italic').strike = True\n"
   ]
  },
  {
   "cell_type": "markdown",
   "metadata": {},
   "source": [
    "# 9. What is the difference between False, True, and None for the bold variable?"
   ]
  },
  {
   "cell_type": "code",
   "execution_count": null,
   "metadata": {},
   "outputs": [],
   "source": []
  },
  {
   "cell_type": "raw",
   "metadata": {},
   "source": [
    "==>By deafult bold variable is False.But if we want our text in bold so we have to  make that variable overwrite it with \n",
    "True.Butif we dpn't want any effect so we can overwriteit with the None.\n"
   ]
  },
  {
   "cell_type": "markdown",
   "metadata": {},
   "source": [
    "# How to make  Document object to read the file from directory?\n"
   ]
  },
  {
   "cell_type": "code",
   "execution_count": null,
   "metadata": {},
   "outputs": [],
   "source": [
    "from docx import Document\n",
    "doc_obj=Document(<\"enter file path here\">)\n"
   ]
  },
  {
   "cell_type": "markdown",
   "metadata": {},
   "source": [
    "# 11. How do you add a paragraph with the text 'Hello, there!' to a Document object stored in a variable named doc?\n",
    "\n"
   ]
  },
  {
   "cell_type": "code",
   "execution_count": null,
   "metadata": {},
   "outputs": [],
   "source": [
    "# import docx\n",
    "# doc=docx.Document(<file path here>)\n",
    "# doc.add_paragraphs(\"Hello,there!\")\n",
    "# doc.add_runs(\"Hello,there!\")\n",
    "# doc.save('xyz.docx')\n"
   ]
  },
  {
   "cell_type": "markdown",
   "metadata": {},
   "source": [
    "# 12. What integers represent the levels of headings available in Word documents?"
   ]
  },
  {
   "cell_type": "code",
   "execution_count": null,
   "metadata": {},
   "outputs": [],
   "source": [
    "# ==>doc.add_heading(\" 0 is the largest heading\",0)\n",
    "# ==>doc.add_heading(\" 1 is the  less than 0 heading\",1)\n",
    "# ==>doc.add_heading(\" 2 is the smallestt heading\",2)"
   ]
  }
 ],
 "metadata": {
  "kernelspec": {
   "display_name": "Python 3",
   "language": "python",
   "name": "python3"
  },
  "language_info": {
   "codemirror_mode": {
    "name": "ipython",
    "version": 3
   },
   "file_extension": ".py",
   "mimetype": "text/x-python",
   "name": "python",
   "nbconvert_exporter": "python",
   "pygments_lexer": "ipython3",
   "version": "3.7.4"
  }
 },
 "nbformat": 4,
 "nbformat_minor": 4
}
