{
 "cells": [
  {
   "cell_type": "markdown",
   "metadata": {},
   "source": [
    "# 1. What are the Boolean data type's two values? How do you go about writing them?\n",
    "\n",
    "--> True and False are two values of boolean data types.Following are the syntax to write boolean values in python."
   ]
  },
  {
   "cell_type": "code",
   "execution_count": 27,
   "metadata": {},
   "outputs": [
    {
     "name": "stdout",
     "output_type": "stream",
     "text": [
      "<class 'bool'>\n",
      "<class 'bool'>\n"
     ]
    },
    {
     "data": {
      "text/plain": [
       "1"
      ]
     },
     "execution_count": 27,
     "metadata": {},
     "output_type": "execute_result"
    }
   ],
   "source": [
    "a=type(True)\n",
    "print(a)\n",
    "b=type(False)\n",
    "print(b)\n",
    "#In python true value is 1 and false value is 0.\n",
    "ans=True+False\n",
    "ans"
   ]
  },
  {
   "cell_type": "markdown",
   "metadata": {},
   "source": [
    "# 2. What are the three different types of Boolean operators?\n",
    "\n",
    "-->Following are three different types of boolean operators:\n",
    "    1)And\n",
    "    2)Or\n",
    "    3)Not\n",
    "    "
   ]
  },
  {
   "cell_type": "code",
   "execution_count": 32,
   "metadata": {},
   "outputs": [
    {
     "name": "stdout",
     "output_type": "stream",
     "text": [
      "And operator 0\n",
      "or operator 1\n",
      "not a True\n"
     ]
    }
   ],
   "source": [
    "# And \n",
    "a=0\n",
    "b=1\n",
    "ans=a and b\n",
    "print(\"And operator\",ans)\n",
    "#or\n",
    "ans=a or b\n",
    "print(\"or operator\",ans)\n",
    "#not\n",
    "ans=not a\n",
    "print(\"not a\",ans)"
   ]
  },
  {
   "cell_type": "markdown",
   "metadata": {},
   "source": [
    "# 3. Make a list of each Boolean operator's truth tables (i.e. every possible combination of Boolean values for the operator and what it evaluate ).\n",
    "\n",
    "--> And,Or,Not are the three boolean operators in the python."
   ]
  },
  {
   "cell_type": "code",
   "execution_count": 29,
   "metadata": {},
   "outputs": [
    {
     "name": "stdout",
     "output_type": "stream",
     "text": [
      "And operator\n",
      "-------------------------------\n",
      "|True | and|True|--> True\n",
      "|True |and|False|--> False\n",
      "|False|and|False|--> False\n",
      "|False|and|True|--> False\n",
      "\n",
      "\n",
      "\n",
      "Or operator\n",
      "-------------------------------\n",
      "|True |or|True |--> True\n",
      "|True |or|False|--> True\n",
      "|False|or|False|--> False\n",
      "|False|or|True |--> True\n",
      "\n",
      "\n",
      "\n",
      "Not operator\n",
      "-------------------------------\n",
      "negation a False\n",
      "negation b True\n"
     ]
    }
   ],
   "source": [
    "\n",
    "c=True\n",
    "d=False\n",
    "\n",
    "# and operator\n",
    "print(\"And operator\")\n",
    "print(\"-------------------------------\")\n",
    "print(\"|True | and|True|-->\",True and True)\n",
    "print(\"|True |and|False|-->\",True and False)\n",
    "print(\"|False|and|False|-->\",False and False)\n",
    "print(\"|False|and|True|-->\",False and True)\n",
    "print(\"\\n\\n\")\n",
    "#or operator\n",
    "print(\"Or operator\")\n",
    "print(\"-------------------------------\")\n",
    "print(\"|True |or|True |-->\",True or True)\n",
    "print(\"|True |or|False|-->\",True or False)\n",
    "print(\"|False|or|False|-->\",False or False)\n",
    "print(\"|False|or|True |-->\",False or True)\n",
    "print(\"\\n\\n\")\n",
    "\n",
    "#not operator\n",
    "a=True\n",
    "b=False\n",
    "print(\"Not operator\")\n",
    "print(\"-------------------------------\")\n",
    " \n",
    "print(\"negation a\",not a)\n",
    "print(\"negation b\",not b)"
   ]
  },
  {
   "cell_type": "markdown",
   "metadata": {},
   "source": [
    "# 4. What are the values of the following expressions?\n",
    "\n"
   ]
  },
  {
   "cell_type": "code",
   "execution_count": 30,
   "metadata": {},
   "outputs": [
    {
     "name": "stdout",
     "output_type": "stream",
     "text": [
      "(5 > 4) and (3 == 5)--->ans False\n",
      "\n",
      "\n",
      "not (5 > 4)-->ans False\n",
      "\n",
      "\n",
      "(5 > 4) or (3 == 5)-->ans True\n",
      "\n",
      "\n",
      "not ((5 > 4) or (3 == 5))-->ans False\n",
      "\n",
      "\n",
      "(True and True) and (True == False)-->ans False\n",
      "\n",
      "\n",
      "(not False) or (not True)-->ans True\n",
      "\n",
      "\n",
      "not (5 > 4)-->ans False\n",
      "\n",
      "\n",
      "(5 > 4) or (3 == 5)-->ans True\n",
      "\n",
      "\n",
      "not ((5 > 4) or (3 == 5))-->ans False\n",
      "\n",
      "\n",
      "(True and True) and (True == False)-->ans False\n",
      "\n",
      "\n",
      "(not False) or (not True)-->ans True\n"
     ]
    }
   ],
   "source": [
    "print(\"(5 > 4) and (3 == 5)--->ans\",(5 > 4) and (3 == 5))\n",
    "print(\"\\n\")\n",
    "print(\"not (5 > 4)-->ans\",not (5 > 4))\n",
    "print(\"\\n\")\n",
    "print(\"(5 > 4) or (3 == 5)-->ans\",(5 > 4) or (3 == 5))\n",
    "print(\"\\n\")\n",
    "print(\"not ((5 > 4) or (3 == 5))-->ans\",not ((5 > 4) or (3 == 5)))\n",
    "print(\"\\n\")\n",
    "print(\"(True and True) and (True == False)-->ans\",(True and True) and (True == False))\n",
    "print(\"\\n\")\n",
    "print(\"(not False) or (not True)-->ans\",(not False) or (not True))\n",
    "print(\"\\n\")\n",
    "print(\"not (5 > 4)-->ans\",not (5 > 4))\n",
    "print(\"\\n\")\n",
    "print(\"(5 > 4) or (3 == 5)-->ans\",(5 > 4) or (3 == 5))\n",
    "print(\"\\n\")\n",
    "print(\"not ((5 > 4) or (3 == 5))-->ans\",not ((5 > 4) or (3 == 5)))\n",
    "print(\"\\n\")\n",
    "print(\"(True and True) and (True == False)-->ans\",(True and True) and (True == False))\n",
    "print(\"\\n\")\n",
    "print(\"(not False) or (not True)-->ans\",(not False) or (not True))\n"
   ]
  },
  {
   "cell_type": "markdown",
   "metadata": {},
   "source": [
    "# 5. What are the six different types of reference operators?\n",
    "\n"
   ]
  },
  {
   "cell_type": "markdown",
   "metadata": {},
   "source": [
    "# 6. How do you tell the difference between the equal to and assignment operators?\n",
    "\n",
    "--->Equal to operator is use to check two values are equal or not But assignment operator is used to assign the values in python."
   ]
  },
  {
   "cell_type": "code",
   "execution_count": 31,
   "metadata": {},
   "outputs": [
    {
     "name": "stdout",
     "output_type": "stream",
     "text": [
      "Demonstrate equal to operator\n"
     ]
    }
   ],
   "source": [
    "#Assigning 10 to a and b object\n",
    "a=10\n",
    "b=10\n",
    "if(a==b):\n",
    "    print(\"Demonstrate equal to operator\")\n"
   ]
  },
  {
   "cell_type": "markdown",
   "metadata": {},
   "source": [
    "# 7. Describe a condition and when you would use one.\n"
   ]
  },
  {
   "cell_type": "code",
   "execution_count": 37,
   "metadata": {},
   "outputs": [
    {
     "name": "stdout",
     "output_type": "stream",
     "text": [
      "5\n",
      "input value is not present in list\n",
      "\n",
      "\n",
      "input value enterd is smaller than 10\n",
      "single line if statement in python\n",
      "false\n",
      "condition is true\n",
      "condition is false\n"
     ]
    }
   ],
   "source": [
    "ls=[1,2,3]\n",
    "i=int(input())\n",
    "if i in ls:\n",
    "    print(\"Demonstrate in here\")\n",
    "else:\n",
    "    print(\"input value is not present in list\")\n",
    "print(\"\\n\")\n",
    "if(i>10):\n",
    "    print(\"input value enterd is greater than 10\")\n",
    "else:\n",
    "    print(\"input value enterd is smaller than 10\")\n",
    "print(\"single line if statement in python\")   \n",
    "print(\"true\") if i > 10 else print(\"false\")\n",
    "\n",
    "if 2 in ls:print(\"condition is true\");print(\"condition is false\");"
   ]
  },
  {
   "cell_type": "markdown",
   "metadata": {},
   "source": [
    "# 8. Recognize the following three blocks in this code:\n",
    "\n",
    "-->Here condition is false that is spam has assigned 0 value so it doesn't enter to the if block(spam==10) condition so automatically it skips the if block and executes the code of after if block i.e. in that global area is written spam.\n"
   ]
  },
  {
   "cell_type": "code",
   "execution_count": 38,
   "metadata": {},
   "outputs": [
    {
     "name": "stdout",
     "output_type": "stream",
     "text": [
      "spam\n"
     ]
    }
   ],
   "source": [
    "spam = 0\n",
    "if spam == 10:\n",
    "    print('eggs')\n",
    "    if spam > 5:\n",
    "        print('bacon')\n",
    "    else:\n",
    "        print('ham')\n",
    "    print('spam')\n",
    "print('spam')"
   ]
  },
  {
   "cell_type": "markdown",
   "metadata": {},
   "source": [
    "# 9. Create a programme that prints. If 1 is stored in spam, prints Hello; if 2 is stored in spam, prints Howdy; and if 3 is stored in spam, prints Salutations! if there's something else in spam."
   ]
  },
  {
   "cell_type": "code",
   "execution_count": 50,
   "metadata": {},
   "outputs": [
    {
     "name": "stdout",
     "output_type": "stream",
     "text": [
      "2\n",
      "Howdy\n"
     ]
    }
   ],
   "source": [
    "spam=int(input())\n",
    "\n",
    "if spam==1:\n",
    "    print(\"hello\")\n",
    "elif spam==2:\n",
    "    print(\"Howdy\")\n",
    "elif(spam==2):\n",
    "    print(\"Salutations\")\n",
    "else:\n",
    "    print(\"else part\")"
   ]
  },
  {
   "cell_type": "markdown",
   "metadata": {},
   "source": [
    "# 10.If your programme is stuck in an endless loop, what keys can you press?\n",
    "\n",
    "-->ctrl+c"
   ]
  },
  {
   "cell_type": "markdown",
   "metadata": {},
   "source": [
    "# 11. How can you tell the difference between break and continue?\n",
    "\n",
    "-->Break and Continue are the keywords in the python.Break is used to break the loop and continue is used to  if you want logically control goes to loop. "
   ]
  },
  {
   "cell_type": "code",
   "execution_count": 51,
   "metadata": {},
   "outputs": [
    {
     "name": "stdout",
     "output_type": "stream",
     "text": [
      "0\n",
      "1\n",
      "2\n",
      "3\n"
     ]
    }
   ],
   "source": [
    "i=0\n",
    "while i<=10:\n",
    "    print(i)\n",
    "    if i==3:\n",
    "        break\n",
    "    i+=1"
   ]
  },
  {
   "cell_type": "code",
   "execution_count": 3,
   "metadata": {},
   "outputs": [
    {
     "name": "stdout",
     "output_type": "stream",
     "text": [
      "1\n",
      "2\n",
      "4\n",
      "5\n",
      "6\n",
      "7\n",
      "8\n",
      "9\n",
      "10\n",
      "The end\n"
     ]
    }
   ],
   "source": [
    "# Program to show the use of continue statement inside loops\n",
    "\n",
    "for val in range(1,11):\n",
    "    if val == 3:\n",
    "        continue\n",
    "    print(val)\n",
    "\n",
    "print(\"The end\")"
   ]
  },
  {
   "cell_type": "markdown",
   "metadata": {},
   "source": [
    "# 12. In a for loop, what is the difference between range(10), range(0, 10), and range(0, 10, 1)?\n",
    "\n",
    "--->range function has threee parameters in their body.That is range(start=0,end,steps/jump=+1) it has 2 default parameters i.e. start and steps but we have to give value for end parameters.so it is logically ue in for each loop in python for iterations."
   ]
  },
  {
   "cell_type": "code",
   "execution_count": 8,
   "metadata": {},
   "outputs": [
    {
     "name": "stdout",
     "output_type": "stream",
     "text": [
      "range(0, 10)\n",
      "range(0, 10, 2)\n"
     ]
    }
   ],
   "source": [
    "a=range(10)\n",
    "print(a)\n",
    "b=range(0,10,1)\n",
    "print(b)"
   ]
  },
  {
   "cell_type": "markdown",
   "metadata": {},
   "source": [
    "# 13. Using a for loop, write a short programme that prints the numbers 1 to 10 Then, using a while loop, create an identical programme that prints the numbers 1 to 10."
   ]
  },
  {
   "cell_type": "code",
   "execution_count": 12,
   "metadata": {},
   "outputs": [
    {
     "name": "stdout",
     "output_type": "stream",
     "text": [
      "1\n",
      "2\n",
      "3\n",
      "4\n",
      "5\n",
      "6\n",
      "7\n",
      "8\n",
      "9\n",
      "10\n"
     ]
    }
   ],
   "source": [
    "for i in range (1,10+1,1):\n",
    "    print(i)"
   ]
  },
  {
   "cell_type": "code",
   "execution_count": 11,
   "metadata": {},
   "outputs": [
    {
     "name": "stdout",
     "output_type": "stream",
     "text": [
      "1\n",
      "2\n",
      "3\n",
      "4\n",
      "5\n",
      "6\n",
      "7\n",
      "8\n",
      "9\n",
      "10\n"
     ]
    }
   ],
   "source": [
    "i=1\n",
    "while i<=10:\n",
    "    print(i)\n",
    "    i+=1"
   ]
  },
  {
   "cell_type": "markdown",
   "metadata": {},
   "source": [
    "# 14. If you had a bacon() function within a spam module, how  would you call it after importing spam?\n",
    "\n",
    "-->import spam\n",
    "spam.bacon() (calling bacon global fun  from spam module) "
   ]
  },
  {
   "cell_type": "code",
   "execution_count": null,
   "metadata": {},
   "outputs": [],
   "source": []
  }
 ],
 "metadata": {
  "kernelspec": {
   "display_name": "Python 3",
   "language": "python",
   "name": "python3"
  },
  "language_info": {
   "codemirror_mode": {
    "name": "ipython",
    "version": 3
   },
   "file_extension": ".py",
   "mimetype": "text/x-python",
   "name": "python",
   "nbconvert_exporter": "python",
   "pygments_lexer": "ipython3",
   "version": "3.7.4"
  }
 },
 "nbformat": 4,
 "nbformat_minor": 4
}
