{
 "cells": [
  {
   "cell_type": "markdown",
   "metadata": {},
   "source": [
    "# Assignment--13"
   ]
  },
  {
   "cell_type": "markdown",
   "metadata": {},
   "source": [
    "# 1. What advantages do Excel spreadsheets have over CSV spreadsheets?"
   ]
  },
  {
   "cell_type": "markdown",
   "metadata": {},
   "source": [
    "===>Excel sheet is distributed and sequential divided in columns headings and all but csv is comma seprated value  sheets is the just all rows are in .txt file is seprated by comma.There is no distribution in between them."
   ]
  },
  {
   "cell_type": "markdown",
   "metadata": {},
   "source": [
    "# 2.What do you pass to csv.reader() and csv.writer() to create reader and writer objects?\n"
   ]
  },
  {
   "cell_type": "markdown",
   "metadata": {},
   "source": [
    "===>Here we have to give file name's object  to csv.reader() and csv.writer() to create reader and writer object.\n",
    "\n",
    "\n",
    "\n",
    "\n",
    "<!-- # import csv\n",
    "# filename='abc.csv'\n",
    "\n",
    "# with open('abc.csv','r+') as csvfile:\n",
    "#     a=csv.reader(csvfile)\n",
    "#     next(a)\n",
    "#     for rows in a:\n",
    "#         print(\"rows %d\"%a.line_num)\n",
    "# print('\\nFirst 2 rows are:\\n')\n",
    "# print('Field names are:' + ', '.join(a for a in a))\n",
    "# for row in rows[:2]:\n",
    "  \n",
    "#     for col in row:\n",
    "#         print(\"%s\"%col),\n",
    "#     print('\\n') -->\n",
    "\n",
    "\n",
    "        "
   ]
  },
  {
   "cell_type": "markdown",
   "metadata": {},
   "source": [
    "# 3. What modes do File objects for reader and writer objects need to be opened in?\n"
   ]
  },
  {
   "cell_type": "code",
   "execution_count": null,
   "metadata": {},
   "outputs": [],
   "source": [
    "===>we have to open that in any  mode\n",
    "r\n",
    "w\n",
    "r+\n",
    "rb+\n",
    "w\n",
    "a\n",
    "a+ modes \n"
   ]
  },
  {
   "cell_type": "markdown",
   "metadata": {},
   "source": [
    "# 4. What method takes a list argument and writes it to a CSV file?"
   ]
  },
  {
   "cell_type": "code",
   "execution_count": 20,
   "metadata": {},
   "outputs": [
    {
     "name": "stdout",
     "output_type": "stream",
     "text": [
      "written succesfully\n"
     ]
    }
   ],
   "source": [
    "==>writerows() and writerow()methods\n",
    "# f='abc.csv'\n",
    "# with open(f,'r+') as c:\n",
    "#     csv.writer(c).writerow([1,2,3])\n",
    "#     print(\"written succesfully\")"
   ]
  },
  {
   "cell_type": "markdown",
   "metadata": {},
   "source": [
    "# 5. What do the keyword arguments delimiter and line terminator do?"
   ]
  },
  {
   "cell_type": "code",
   "execution_count": null,
   "metadata": {},
   "outputs": [],
   "source": [
    "==>delimiter is the parameter in the csv.register_dialect() method it s define to seprate values by ',' or';'.\n",
    "Line terminator is also one the parameter which is used for '\\r\\n' or anything. \n"
   ]
  },
  {
   "cell_type": "markdown",
   "metadata": {},
   "source": [
    "# 6. What function takes a string of JSON data and returns a Python data structure?"
   ]
  },
  {
   "cell_type": "code",
   "execution_count": 33,
   "metadata": {},
   "outputs": [
    {
     "name": "stdout",
     "output_type": "stream",
     "text": [
      "<class 'dict'>\n"
     ]
    },
    {
     "data": {
      "text/plain": [
       "'\"{\\'nm\\': {\\'surname\\': \\'bg\\', \\'colors\\': [\\'blue\\', \\'green\\']}}\"'"
      ]
     },
     "execution_count": 33,
     "metadata": {},
     "output_type": "execute_result"
    }
   ],
   "source": [
    "import json\n",
    "data={\n",
    "    'nm':{\n",
    "    'surname':'bg',\n",
    "    'colors':['blue','green']\n",
    "    }\n",
    "}\n",
    "print(type(data))\n",
    "s=json.dumps(str(data))\n",
    "s"
   ]
  },
  {
   "cell_type": "code",
   "execution_count": 29,
   "metadata": {},
   "outputs": [
    {
     "name": "stdout",
     "output_type": "stream",
     "text": [
      "<class 'dict'>\n"
     ]
    }
   ],
   "source": [
    "data = {\n",
    "    \"president\": {\n",
    "        \"name\": \"Zaphod Beeblebrox\",\n",
    "        \"species\": \"Betelgeusian\"\n",
    "    }\n",
    "}\n",
    "print(type(data))"
   ]
  },
  {
   "cell_type": "markdown",
   "metadata": {},
   "source": [
    "# 7. What function takes a Python data structure and returns a string of JSON data?"
   ]
  },
  {
   "cell_type": "code",
   "execution_count": 57,
   "metadata": {},
   "outputs": [
    {
     "data": {
      "text/plain": [
       "'{\"col1\":{\"0\":13,\"1\":14,\"2\":45,\"3\":67,\"4\":89,\"5\":89}}'"
      ]
     },
     "execution_count": 57,
     "metadata": {},
     "output_type": "execute_result"
    }
   ],
   "source": [
    "import json\n",
    "import pandas as pd\n",
    "# import string\n",
    "\n",
    "a=[13,14,45,67,89,89]\n",
    "s={'col1':a}\n",
    "m=pd.DataFrame(s)\n",
    "jj=m.to_json()\n",
    "jj"
   ]
  }
 ],
 "metadata": {
  "kernelspec": {
   "display_name": "Python 3",
   "language": "python",
   "name": "python3"
  },
  "language_info": {
   "codemirror_mode": {
    "name": "ipython",
    "version": 3
   },
   "file_extension": ".py",
   "mimetype": "text/x-python",
   "name": "python",
   "nbconvert_exporter": "python",
   "pygments_lexer": "ipython3",
   "version": "3.7.4"
  }
 },
 "nbformat": 4,
 "nbformat_minor": 4
}
