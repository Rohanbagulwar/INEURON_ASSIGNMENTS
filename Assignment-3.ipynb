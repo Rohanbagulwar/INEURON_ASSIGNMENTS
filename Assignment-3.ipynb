{
 "cells": [
  {
   "cell_type": "markdown",
   "metadata": {},
   "source": [
    "# Assignment-3"
   ]
  },
  {
   "cell_type": "markdown",
   "metadata": {},
   "source": [
    "# 1. Why are functions advantageous to have in your programs?\n",
    "\n",
    "--->Functions are advantageous in our program because of its Reusablity,we can call to  function when we need.so in a function\n",
    "    we can write a logic those we want repetadly in our program.Afterwards we can call them as our logical requirement.\n",
    "    Functins also reduces the space complexity of our program.our lines of code will be reduces as because use of functions."
   ]
  },
  {
   "cell_type": "markdown",
   "metadata": {},
   "source": [
    "# 2. When does the code in a function run: when it's specified or when it's called?\n",
    "\n",
    "--->First we have to make any function and write logic in that afterwards when we call that function the controls transfer         to the calling function and than it will be executed.\n"
   ]
  },
  {
   "cell_type": "code",
   "execution_count": 2,
   "metadata": {},
   "outputs": [
    {
     "name": "stdout",
     "output_type": "stream",
     "text": [
      "It is a global function \n",
      "\n",
      "Function called globally\n"
     ]
    }
   ],
   "source": [
    "# suppose one example\n",
    "def run():\n",
    "    print(\"It is a global function \\n\\nFunction called globally\")\n",
    "run()#calling function"
   ]
  },
  {
   "cell_type": "markdown",
   "metadata": {},
   "source": [
    "# 3. What statement creates a function?\n",
    "\n",
    "---> def function_nm():\n",
    "           write any logic here\n",
    "           return anything"
   ]
  },
  {
   "cell_type": "code",
   "execution_count": 4,
   "metadata": {},
   "outputs": [
    {
     "name": "stdout",
     "output_type": "stream",
     "text": [
      "my name is rohan\n",
      "my age is 21\n"
     ]
    }
   ],
   "source": [
    "def info():\n",
    "    print(\"my name is rohan\")\n",
    "    return \"my age is 21\"\n",
    "a=info()#calling to function\n",
    "print(a)#printing return statement"
   ]
  },
  {
   "cell_type": "markdown",
   "metadata": {},
   "source": [
    "# 4. What is the difference between a function and a function call?\n",
    "\n",
    "--->calling function transfer controls to the pre defined function where as function will be executed after we call to that.\n",
    "    Function will be executed whenever we call to them from our script."
   ]
  },
  {
   "cell_type": "markdown",
   "metadata": {},
   "source": [
    "# 5. How many global scopes are there in a Python program? How many local scopes?\n",
    "\n",
    "---->"
   ]
  },
  {
   "cell_type": "markdown",
   "metadata": {},
   "source": [
    "a='global_variable'\n",
    "def foo():\n",
    "    s='local_variable'\n",
    "    print(a)\n",
    "    def inner():\n",
    "        print(s)\n",
    "        print(a)\n",
    "    return inner()\n",
    "foo()\n",
    "print(\"outside\",a)# but scope  of  a is globally declared.so it is accessible everywhere in the script.\n",
    "print(s) # here scope of s variable is in their function within.so it is not  accessible outside the scope of function.\n"
   ]
  },
  {
   "cell_type": "markdown",
   "metadata": {},
   "source": [
    "# 6. What happens to variables in a local scope when the function call returns?\n",
    "\n",
    "\n",
    "--->If logically we want any output return so we have to return from the function,when we return anythinh from the function so it is must to recieve them in the calling statement.That means if logically required in global area any-thing from the function\n",
    "so we can use return statement in the function.\n",
    "    "
   ]
  },
  {
   "cell_type": "code",
   "execution_count": 31,
   "metadata": {},
   "outputs": [
    {
     "data": {
      "text/plain": [
       "10"
      ]
     },
     "execution_count": 31,
     "metadata": {},
     "output_type": "execute_result"
    }
   ],
   "source": [
    "def foo():\n",
    "    c=10\n",
    "    return c\n",
    "foo()\n",
    "# print(a)"
   ]
  },
  {
   "cell_type": "markdown",
   "metadata": {},
   "source": [
    "# 7. What is the concept of a return value? Is it possible to have a return value in an expression?\n",
    "\n",
    "--->If logically we want any output return so we have to return from the function.\n",
    "    It is not possible to return value in an expression. "
   ]
  },
  {
   "cell_type": "markdown",
   "metadata": {},
   "source": [
    "# 8. If a function does not have a return statement, what is the return value of a call to that function?\n",
    "\n",
    "----> If a function does not have a return statement, than it is the return None value\n"
   ]
  },
  {
   "cell_type": "code",
   "execution_count": 36,
   "metadata": {},
   "outputs": [
    {
     "name": "stdout",
     "output_type": "stream",
     "text": [
      "None\n",
      "<class 'NoneType'>\n"
     ]
    }
   ],
   "source": [
    "def foo():\n",
    "    s=10\n",
    "s=foo()\n",
    "print(s)\n",
    "print(type(s))\n"
   ]
  },
  {
   "cell_type": "markdown",
   "metadata": {},
   "source": [
    "# 9. How do you make a function variable refer to the global variable?\n",
    "\n",
    "--->"
   ]
  },
  {
   "cell_type": "code",
   "execution_count": 37,
   "metadata": {},
   "outputs": [
    {
     "name": "stdout",
     "output_type": "stream",
     "text": [
      "10\n"
     ]
    }
   ],
   "source": [
    "a=10   #functioon variable\n",
    "def sample():\n",
    "    x=a    #here x is a local variable reffering to the global variable a\n",
    "    print(x)\n",
    "sample()"
   ]
  },
  {
   "cell_type": "markdown",
   "metadata": {},
   "source": [
    "# 10. What is the data type of None?"
   ]
  },
  {
   "cell_type": "code",
   "execution_count": 38,
   "metadata": {},
   "outputs": [
    {
     "name": "stdout",
     "output_type": "stream",
     "text": [
      "<class 'NoneType'>\n"
     ]
    }
   ],
   "source": [
    "print(type(None))  # data-type of a none is class 'NoneType'"
   ]
  },
  {
   "cell_type": "markdown",
   "metadata": {},
   "source": [
    "# 11. What does the sentence import areallyourpetsnamederic do?\n",
    "\n",
    "----> In python any-program is a python module or packages in java.so if we want to use any function from another python             program so we have to import first in our program afterwards only we are accessible to use their functions or classes or       member function or any nested module."
   ]
  },
  {
   "cell_type": "markdown",
   "metadata": {},
   "source": [
    "# 12. If you had a bacon() feature in a spam module, what would you call it after importing spam?\n",
    "\n",
    "----> import spam \n",
    "      spam.bacon()\n",
    "      "
   ]
  },
  {
   "cell_type": "markdown",
   "metadata": {},
   "source": [
    "# 13. What can you do to save a programme from crashing if it encounters an error?\n",
    "\n",
    "----> If program throws error/exception but we have to execute however so we can use Exception handling in our program.so it         can run without termination afterwards.we acn  use try,except,finally blocks in program. "
   ]
  },
  {
   "cell_type": "markdown",
   "metadata": {},
   "source": [
    " # 14. What is the purpose of the try clause? What is the purpose of the except clause?\n",
    "\n",
    "-----> The try and except block in Python is used to catch and handle exceptions. Python executes code following the try               statement as a “normal” part of the program. The code that follows the except statement is the program's response to           any exceptions in the preceding try clause.\n",
    " "
   ]
  },
  {
   "cell_type": "code",
   "execution_count": 45,
   "metadata": {},
   "outputs": [
    {
     "name": "stdout",
     "output_type": "stream",
     "text": [
      "any integer inputq\n",
      "please enter a valid integer number\n"
     ]
    }
   ],
   "source": [
    "try:\n",
    "    a=int(input(\"any integer input\"))\n",
    "except Exception as e:\n",
    "    print(\"please enter a valid integer number\")\n"
   ]
  },
  {
   "cell_type": "code",
   "execution_count": null,
   "metadata": {},
   "outputs": [],
   "source": []
  }
 ],
 "metadata": {
  "kernelspec": {
   "display_name": "Python 3",
   "language": "python",
   "name": "python3"
  },
  "language_info": {
   "codemirror_mode": {
    "name": "ipython",
    "version": 3
   },
   "file_extension": ".py",
   "mimetype": "text/x-python",
   "name": "python",
   "nbconvert_exporter": "python",
   "pygments_lexer": "ipython3",
   "version": "3.7.4"
  }
 },
 "nbformat": 4,
 "nbformat_minor": 4
}
